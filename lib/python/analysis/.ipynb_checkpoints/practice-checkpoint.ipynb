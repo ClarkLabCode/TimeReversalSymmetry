{
 "cells": [
  {
   "cell_type": "code",
   "execution_count": 3,
   "metadata": {},
   "outputs": [],
   "source": [
    "import numpy as np\n",
    "import matplotlib.pyplot as plt\n",
    "from datetime import datetime\n",
    "import importlib\n",
    "\n",
    "import torch\n",
    "import torch.nn as nn\n",
    "\n",
    "import models\n",
    "import train_validate as tnvl\n",
    "import helper_functions as hpfn"
   ]
  },
  {
   "cell_type": "markdown",
   "metadata": {},
   "source": [
    "# Nonlinear function as a sum of Sigmoids"
   ]
  },
  {
   "cell_type": "code",
   "execution_count": 2,
   "metadata": {},
   "outputs": [],
   "source": [
    "def get_sigmoid(a, b, x):\n",
    "    y = 1. / (1. + np.exp(-a*x-b))\n",
    "    \n",
    "    return y"
   ]
  },
  {
   "cell_type": "code",
   "execution_count": 57,
   "metadata": {},
   "outputs": [],
   "source": [
    "x = np.linspace(-5, 5, 100)\n",
    "y = get_sigmoid(1, 0, x)"
   ]
  },
  {
   "cell_type": "code",
   "execution_count": 65,
   "metadata": {},
   "outputs": [
    {
     "data": {
      "image/png": "[encoded data removed]",
      "text/plain": [
       "<Figure size 432x288 with 1 Axes>"
      ]
     },
     "metadata": {
      "needs_background": "light"
     },
     "output_type": "display_data"
    }
   ],
   "source": [
    "scal = 10\n",
    "plt.plot(x, 1 * y)\n",
    "plt.plot(x, scal * y)\n",
    "plt.ylim([0, np.maximum(1, scal)])\n",
    "plt.show()"
   ]
  },
  {
   "cell_type": "code",
   "execution_count": 6,
   "metadata": {},
   "outputs": [],
   "source": [
    "a = [0.1, 0.2, 0.3, 0.5, 1, 2, 1, 0.5, 0.3, 0.2, 0.1, 0.05, 0.02, 0.01]\n",
    "b = [0.5, 1, 3, 4, 4.5, 5, 6, 7, 7.5, 8, 8.5, 9, 9.5, 10]\n",
    "\n",
    "y_out = 0\n",
    "x_in = np.linspace(-20, 50, 100)\n",
    "for ii in range(len(a)):\n",
    "    y = get_sigmoid(a[ii], -2*b[ii], x_in)\n",
    "    y_out = y_out + y"
   ]
  },
  {
   "cell_type": "code",
   "execution_count": 7,
   "metadata": {},
   "outputs": [
    {
     "data": {
      "image/png": "[encoded data removed]",
      "text/plain": [
       "<Figure size 432x288 with 1 Axes>"
      ]
     },
     "metadata": {
      "needs_background": "light"
     },
     "output_type": "display_data"
    }
   ],
   "source": [
    "plt.plot(x_in, y_out)\n",
    "plt.xlabel('input')\n",
    "plt.ylabel('output')\n",
    "plt.show()"
   ]
  },
  {
   "cell_type": "code",
   "execution_count": 51,
   "metadata": {},
   "outputs": [
    {
     "data": {
      "text/plain": [
       "tensor([[0, 1, 2, 3],\n",
       "        [4, 5, 6, 7]])"
      ]
     },
     "execution_count": 51,
     "metadata": {},
     "output_type": "execute_result"
    }
   ],
   "source": [
    "x = torch.arange(8).view(2, 4)\n",
    "x"
   ]
  },
  {
   "cell_type": "code",
   "execution_count": 53,
   "metadata": {},
   "outputs": [
    {
     "data": {
      "text/plain": [
       "tensor([[3, 2, 1, 0],\n",
       "        [7, 6, 5, 4]])"
      ]
     },
     "execution_count": 53,
     "metadata": {},
     "output_type": "execute_result"
    }
   ],
   "source": [
    "torch.flip(x, [1])"
   ]
  },
  {
   "cell_type": "code",
   "execution_count": 67,
   "metadata": {},
   "outputs": [
    {
     "data": {
      "text/plain": [
       "'../results/local_feedforward_nonlinear_transform_20210619204038/'"
      ]
     },
     "execution_count": 67,
     "metadata": {},
     "output_type": "execute_result"
    }
   ],
   "source": [
    "f\"../results/local_feedforward_nonlinear_transform_{datetime.now().strftime('%Y%m%d%H%M%S')}/\""
   ]
  },
  {
   "cell_type": "markdown",
   "metadata": {},
   "source": [
    "# Initializations"
   ]
  },
  {
   "cell_type": "code",
   "execution_count": 21,
   "metadata": {},
   "outputs": [
    {
     "data": {
      "text/plain": [
       "tensor([[-0.8156, -0.3928, -0.4751, -0.0912, -0.2116],\n",
       "        [-0.2873, -0.4555, -0.0572, -0.0315, -0.2050],\n",
       "        [-0.9734, -0.5924, -0.2235, -0.4521, -0.5365]])"
      ]
     },
     "execution_count": 21,
     "metadata": {},
     "output_type": "execute_result"
    }
   ],
   "source": [
    "w = torch.empty(3, 5)\n",
    "nn.init.uniform_(w, -1, 0)"
   ]
  },
  {
   "cell_type": "code",
   "execution_count": 8,
   "metadata": {},
   "outputs": [
    {
     "name": "stdout",
     "output_type": "stream",
     "text": [
      "nonlinear_slope1 True\n",
      "nonlinear_slope2 True\n",
      "nonlinear_slope_syn True\n",
      "nonlinear_bias1 True\n",
      "nonlinear_bias2 True\n",
      "nonlinear_bias_syn True\n",
      "nonlinear_scaling1 True\n",
      "nonlinear_scaling2 True\n",
      "nonlinear_scaling_syn True\n",
      "conv_C1.weight True\n",
      "conv_C2.weight True\n",
      "conv_syn.weight True\n"
     ]
    }
   ],
   "source": [
    "importlib.reload(models)\n",
    "\n",
    "neural_networks = models.LocalFeedforwardNet_C1C2_lnln(k=128)\n",
    "for name, param in neural_networks.named_parameters():\n",
    "    if param.requires_grad:\n",
    "        print(name, param.requires_grad)\n"
   ]
  },
  {
   "cell_type": "code",
   "execution_count": null,
   "metadata": {},
   "outputs": [],
   "source": []
  }
 ],
 "metadata": {
  "kernelspec": {
   "display_name": "Python 3 (ipykernel)",
   "language": "python",
   "name": "python3"
  },
  "language_info": {
   "codemirror_mode": {
    "name": "ipython",
    "version": 3
   },
   "file_extension": ".py",
   "mimetype": "text/x-python",
   "name": "python",
   "nbconvert_exporter": "python",
   "pygments_lexer": "ipython3",
   "version": "3.9.16"
  }
 },
 "nbformat": 4,
 "nbformat_minor": 4
}
